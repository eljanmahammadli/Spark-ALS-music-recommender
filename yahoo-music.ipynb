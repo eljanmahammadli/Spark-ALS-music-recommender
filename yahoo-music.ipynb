{
 "cells": [
  {
   "cell_type": "code",
   "execution_count": null,
   "metadata": {
    "application/vnd.databricks.v1+cell": {
     "cellMetadata": {
      "byteLimit": 2048000,
      "rowLimit": 10000
     },
     "inputWidgets": {},
     "nuid": "ff1d8472-4b97-47fc-9d37-5aad2ce943d2",
     "showTitle": false,
     "title": ""
    }
   },
   "outputs": [],
   "source": [
    "storage_account_name = \"yahoomusic\"\n",
    "storage_account_key = \"\"\n",
    "container = \"yahoomusic\"\n",
    "\n",
    "\n",
    "\n",
    "dbutils.fs.mount(\n",
    "  source = f\"wasbs://{container}@{storage_account_name}.blob.core.windows.net\",\n",
    "  mount_point = \"/mnt/azureStorage\",\n",
    "  extra_configs = {f\"fs.azure.account.key.{storage_account_name}.blob.core.windows.net\": storage_account_key}\n",
    ")"
   ]
  },
  {
   "cell_type": "code",
   "execution_count": null,
   "metadata": {
    "application/vnd.databricks.v1+cell": {
     "cellMetadata": {
      "byteLimit": 2048000,
      "rowLimit": 10000
     },
     "inputWidgets": {},
     "nuid": "d65476d0-fe9c-43f0-b269-1e3f984c703f",
     "showTitle": false,
     "title": ""
    }
   },
   "outputs": [
    {
     "name": "stdout",
     "output_type": "stream",
     "text": [
      "Out[10]: [MountInfo(mountPoint='/databricks-datasets', source='databricks-datasets', encryptionType=''),\n",
      " MountInfo(mountPoint='/mnt/azureStorage', source='wasbs://yahoomusic@yahoomusic.blob.core.windows.net', encryptionType=''),\n",
      " MountInfo(mountPoint='/databricks/mlflow-tracking', source='databricks/mlflow-tracking', encryptionType=''),\n",
      " MountInfo(mountPoint='/databricks-results', source='databricks-results', encryptionType=''),\n",
      " MountInfo(mountPoint='/databricks/mlflow-registry', source='databricks/mlflow-registry', encryptionType=''),\n",
      " MountInfo(mountPoint='/', source='DatabricksRoot', encryptionType='')]"
     ]
    }
   ],
   "source": [
    "dbutils.fs.mounts()"
   ]
  },
  {
   "cell_type": "code",
   "execution_count": null,
   "metadata": {
    "application/vnd.databricks.v1+cell": {
     "cellMetadata": {
      "byteLimit": 2048000,
      "rowLimit": 10000
     },
     "inputWidgets": {},
     "nuid": "382307e7-e409-43ed-8c7b-6873aca426a5",
     "showTitle": false,
     "title": ""
    }
   },
   "outputs": [
    {
     "data": {
      "text/html": [
       "<style scoped>\n",
       "  .table-result-container {\n",
       "    max-height: 300px;\n",
       "    overflow: auto;\n",
       "  }\n",
       "  table, th, td {\n",
       "    border: 1px solid black;\n",
       "    border-collapse: collapse;\n",
       "  }\n",
       "  th, td {\n",
       "    padding: 5px;\n",
       "  }\n",
       "  th {\n",
       "    text-align: left;\n",
       "  }\n",
       "</style><div class='table-result-container'><table class='table-result'><thead style='background-color: white'><tr><th>path</th><th>name</th><th>size</th><th>modificationTime</th></tr></thead><tbody><tr><td>dbfs:/mnt/azureStorage/genre-hierarchy.txt</td><td>genre-hierarchy.txt</td><td>4362</td><td>1682022374000</td></tr><tr><td>dbfs:/mnt/azureStorage/readme.txt</td><td>readme.txt</td><td>5684</td><td>1682022374000</td></tr><tr><td>dbfs:/mnt/azureStorage/song-attributes.txt</td><td>song-attributes.txt</td><td>2567765</td><td>1682022727000</td></tr><tr><td>dbfs:/mnt/azureStorage/test_0.txt</td><td>test_0.txt</td><td>29250779</td><td>1682022770000</td></tr><tr><td>dbfs:/mnt/azureStorage/train_0.txt</td><td>train_0.txt</td><td>1116948159</td><td>1682022996000</td></tr></tbody></table></div>"
      ]
     },
     "metadata": {
      "application/vnd.databricks.v1+output": {
       "addedWidgets": {},
       "aggData": [],
       "aggError": "",
       "aggOverflow": false,
       "aggSchema": [],
       "aggSeriesLimitReached": false,
       "aggType": "",
       "arguments": {},
       "columnCustomDisplayInfos": {},
       "data": [
        [
         "dbfs:/mnt/azureStorage/genre-hierarchy.txt",
         "genre-hierarchy.txt",
         4362,
         1682022374000
        ],
        [
         "dbfs:/mnt/azureStorage/readme.txt",
         "readme.txt",
         5684,
         1682022374000
        ],
        [
         "dbfs:/mnt/azureStorage/song-attributes.txt",
         "song-attributes.txt",
         2567765,
         1682022727000
        ],
        [
         "dbfs:/mnt/azureStorage/test_0.txt",
         "test_0.txt",
         29250779,
         1682022770000
        ],
        [
         "dbfs:/mnt/azureStorage/train_0.txt",
         "train_0.txt",
         1116948159,
         1682022996000
        ]
       ],
       "datasetInfos": [],
       "dbfsResultPath": null,
       "isJsonSchema": true,
       "metadata": {
        "isDbfsCommandResult": false
       },
       "overflow": false,
       "plotOptions": {
        "customPlotOptions": {},
        "displayType": "table",
        "pivotAggregation": null,
        "pivotColumns": null,
        "xColumns": null,
        "yColumns": null
       },
       "removedWidgets": [],
       "schema": [
        {
         "metadata": "{}",
         "name": "path",
         "type": "\"string\""
        },
        {
         "metadata": "{}",
         "name": "name",
         "type": "\"string\""
        },
        {
         "metadata": "{}",
         "name": "size",
         "type": "\"long\""
        },
        {
         "metadata": "{}",
         "name": "modificationTime",
         "type": "\"long\""
        }
       ],
       "type": "table"
      }
     },
     "output_type": "display_data"
    }
   ],
   "source": [
    "%fs ls \"dbfs:/mnt/azureStorage\""
   ]
  },
  {
   "cell_type": "code",
   "execution_count": null,
   "metadata": {
    "application/vnd.databricks.v1+cell": {
     "cellMetadata": {
      "byteLimit": 2048000,
      "rowLimit": 10000
     },
     "inputWidgets": {},
     "nuid": "9391a38a-2280-486d-a0c0-88f8eb922113",
     "showTitle": false,
     "title": ""
    }
   },
   "outputs": [
    {
     "name": "stdout",
     "output_type": "stream",
     "text": [
      "+------+------+------+\n",
      "|userId|songId|rating|\n",
      "+------+------+------+\n",
      "|     0|   166|     5|\n",
      "|     0|  2245|     4|\n",
      "|     0|  3637|     4|\n",
      "|     0|  5580|     4|\n",
      "|     0|  5859|     4|\n",
      "+------+------+------+\n",
      "only showing top 5 rows\n",
      "\n"
     ]
    }
   ],
   "source": [
    "ratings = spark.read \\\n",
    "  .option(\"delimiter\", \"\\t\") \\\n",
    "  .csv(\"/mnt/azureStorage/train_0.txt\") \\\n",
    "  .toDF(\"userId\", \"songId\", \"rating\")\n",
    "\n",
    "ratings.show(5)\n",
    "\n",
    "ratings = ratings.select(ratings.userId.cast(\"integer\"), ratings.songId.cast(\"integer\"), ratings.rating.cast(\"double\"))"
   ]
  },
  {
   "cell_type": "code",
   "execution_count": null,
   "metadata": {
    "application/vnd.databricks.v1+cell": {
     "cellMetadata": {
      "byteLimit": 2048000,
      "rowLimit": 10000
     },
     "inputWidgets": {},
     "nuid": "6344f07c-09e2-4bde-afb2-dd732b2c2103",
     "showTitle": false,
     "title": ""
    }
   },
   "outputs": [
    {
     "name": "stdout",
     "output_type": "stream",
     "text": [
      "+------+-------+--------+-------+\n",
      "|songId|albumId|artistId|genreId|\n",
      "+------+-------+--------+-------+\n",
      "|     0|  12070|    8490|      0|\n",
      "|     1|  19512|    7975|    134|\n",
      "|     2|  18953|    3492|      0|\n",
      "|     3|    695|    2653|      0|\n",
      "|     4|    243|    2282|      0|\n",
      "+------+-------+--------+-------+\n",
      "only showing top 5 rows\n",
      "\n"
     ]
    }
   ],
   "source": [
    "song_attributes = spark.read \\\n",
    "  .option(\"delimiter\", \"\\t\") \\\n",
    "  .csv(\"/mnt/azureStorage/song-attributes.txt\") \\\n",
    "  .toDF(\"songId\", \"albumId\", \"artistId\", \"genreId\")\n",
    "song_attributes = song_attributes.select(song_attributes.songId.cast(\"integer\"), song_attributes.albumId.cast(\"integer\"), song_attributes.artistId.cast(\"integer\"), song_attributes.genreId.cast(\"integer\"))\n",
    "\n",
    "song_attributes.show(5)"
   ]
  },
  {
   "cell_type": "code",
   "execution_count": null,
   "metadata": {
    "application/vnd.databricks.v1+cell": {
     "cellMetadata": {
      "byteLimit": 2048000,
      "rowLimit": 10000
     },
     "inputWidgets": {},
     "nuid": "76fdfcaf-6fe0-4afe-bc1f-520dce7b495d",
     "showTitle": false,
     "title": ""
    }
   },
   "outputs": [
    {
     "name": "stdout",
     "output_type": "stream",
     "text": [
      "+-------+-------------+-----+----------------+\n",
      "|genreId|parentGenreId|level|       genreName|\n",
      "+-------+-------------+-----+----------------+\n",
      "|      0|            0|    1|         Unknown|\n",
      "|      1|            1|    1|Electronic/Dance|\n",
      "|      2|            1|    2|         Ambient|\n",
      "|      3|            2|    3|     Ambient Dub|\n",
      "|      4|            2|    3|    Ambient Tech|\n",
      "+-------+-------------+-----+----------------+\n",
      "only showing top 5 rows\n",
      "\n"
     ]
    }
   ],
   "source": [
    "genre_hierarchy = spark.read \\\n",
    "  .option(\"delimiter\", \"\\t\") \\\n",
    "  .csv(\"/mnt/azureStorage/genre-hierarchy.txt\") \\\n",
    "  .toDF(\"genreId\", \"parentGenreId\", \"level\", \"genreName\")\n",
    "genre_hierarchy = genre_hierarchy.select(genre_hierarchy.genreId.cast(\"integer\"), genre_hierarchy.parentGenreId.cast(\"integer\"), genre_hierarchy.level.cast(\"integer\"), genre_hierarchy.genreName.cast(\"string\"))\n",
    "genre_hierarchy.show(5)\n"
   ]
  },
  {
   "cell_type": "code",
   "execution_count": null,
   "metadata": {
    "application/vnd.databricks.v1+cell": {
     "cellMetadata": {
      "byteLimit": 2048000,
      "rowLimit": 10000
     },
     "inputWidgets": {},
     "nuid": "962979fa-a4ea-4294-ad88-dd4495bd41de",
     "showTitle": false,
     "title": ""
    }
   },
   "outputs": [
    {
     "name": "stdout",
     "output_type": "stream",
     "text": [
      "Out[2]: 76344627"
     ]
    }
   ],
   "source": [
    "ratings.count()"
   ]
  },
  {
   "cell_type": "code",
   "execution_count": null,
   "metadata": {
    "application/vnd.databricks.v1+cell": {
     "cellMetadata": {
      "byteLimit": 2048000,
      "rowLimit": 10000
     },
     "inputWidgets": {},
     "nuid": "a5658cce-4159-47f2-aded-ccecc62051ab",
     "showTitle": false,
     "title": ""
    }
   },
   "outputs": [
    {
     "name": "stdout",
     "output_type": "stream",
     "text": [
      "+-------+------+------+------+-------+--------+-------------+-----+---------+\n",
      "|genreId|songId|userId|rating|albumId|artistId|parentGenreId|level|genreName|\n",
      "+-------+------+------+------+-------+--------+-------------+-----+---------+\n",
      "|      0|   166|     0|   5.0|   5303|    7231|            0|    1|  Unknown|\n",
      "|      0|  2245|     0|   4.0|  14290|    3265|            0|    1|  Unknown|\n",
      "|      0|  3637|     0|   4.0|  15761|     629|            0|    1|  Unknown|\n",
      "|      0|  5580|     0|   4.0|   8324|    4761|            0|    1|  Unknown|\n",
      "|      0|  5859|     0|   4.0|  19671|    4716|            0|    1|  Unknown|\n",
      "+-------+------+------+------+-------+--------+-------------+-----+---------+\n",
      "only showing top 5 rows\n",
      "\n"
     ]
    }
   ],
   "source": [
    "df = ratings.join(song_attributes, 'songId', 'left').join(genre_hierarchy, 'genreId', 'left')\n",
    "df.show(5)"
   ]
  },
  {
   "cell_type": "code",
   "execution_count": null,
   "metadata": {
    "application/vnd.databricks.v1+cell": {
     "cellMetadata": {
      "byteLimit": 2048000,
      "rowLimit": 10000
     },
     "inputWidgets": {},
     "nuid": "d822a1b6-bba2-4152-a982-494e0e552797",
     "showTitle": false,
     "title": ""
    }
   },
   "outputs": [
    {
     "name": "stdout",
     "output_type": "stream",
     "text": [
      "+-------+------+------+------+-------+--------+-------------+-----+------------+\n",
      "|genreId|songId|userId|rating|albumId|artistId|parentGenreId|level|   genreName|\n",
      "+-------+------+------+------+-------+--------+-------------+-----+------------+\n",
      "|    135| 17821|     0|     5|   8620|    2020|          134|    2|Classic Rock|\n",
      "|    134| 60088|     0|     4|  15360|    3305|          134|    1|        Rock|\n",
      "|    106|  1718|     1|     5|  11047|    2389|          106|    1|         Pop|\n",
      "|     54|  2433|     1|     2|   7664|    7164|           54|    1|     Country|\n",
      "|    106|  3436|     1|     5|   5748|    5417|          106|    1|         Pop|\n",
      "+-------+------+------+------+-------+--------+-------------+-----+------------+\n",
      "only showing top 5 rows\n",
      "\n"
     ]
    }
   ],
   "source": [
    "from pyspark.sql.functions import col\n",
    "df.filter(col('genreName') != 'Unknown').show(5)"
   ]
  },
  {
   "cell_type": "code",
   "execution_count": null,
   "metadata": {
    "application/vnd.databricks.v1+cell": {
     "cellMetadata": {
      "byteLimit": 2048000,
      "rowLimit": 10000
     },
     "inputWidgets": {},
     "nuid": "e8a7cb49-ecb2-499c-ac0d-8a68a5307c4c",
     "showTitle": false,
     "title": ""
    }
   },
   "outputs": [
    {
     "name": "stdout",
     "output_type": "stream",
     "text": [
      "The number of distinct users: 200000\n",
      "The number of distinct songs: 136736\n",
      "Sparsity of the data: 0.997208320157091\n"
     ]
    }
   ],
   "source": [
    "# basic stats and sparsity\n",
    "user_count = ratings.select(\"userId\").distinct().count()\n",
    "song_count = ratings.select(\"songId\").distinct().count()\n",
    "sparsity = 1 - (ratings.count() / (user_count * song_count))\n",
    "print(f\"The number of distinct users: {user_count}\")\n",
    "print(f\"The number of distinct songs: {song_count}\")\n",
    "print(f\"Sparsity of the data: {sparsity}\")"
   ]
  },
  {
   "cell_type": "code",
   "execution_count": null,
   "metadata": {
    "application/vnd.databricks.v1+cell": {
     "cellMetadata": {
      "byteLimit": 2048000,
      "rowLimit": 10000
     },
     "inputWidgets": {},
     "nuid": "ab717410-a3dc-4af4-b04f-e60b43f2dbb4",
     "showTitle": false,
     "title": ""
    }
   },
   "outputs": [
    {
     "name": "stdout",
     "output_type": "stream",
     "text": [
      "root\n",
      " |-- userId: integer (nullable = true)\n",
      " |-- songId: integer (nullable = true)\n",
      " |-- rating: double (nullable = true)\n",
      "\n"
     ]
    }
   ],
   "source": [
    "ratings.printSchema()"
   ]
  },
  {
   "cell_type": "code",
   "execution_count": 8,
   "metadata": {},
   "outputs": [],
   "source": [
    "from pyspark.sql.functions import min, avg"
   ]
  },
  {
   "cell_type": "code",
   "execution_count": 9,
   "metadata": {},
   "outputs": [
    {
     "name": "stderr",
     "output_type": "stream",
     "text": [
      "[Stage 24:===================================================>      (8 + 1) / 9]\r"
     ]
    },
    {
     "name": "stdout",
     "output_type": "stream",
     "text": [
      "+----------+\n",
      "|min(count)|\n",
      "+----------+\n",
      "|        74|\n",
      "+----------+\n",
      "\n"
     ]
    },
    {
     "name": "stderr",
     "output_type": "stream",
     "text": [
      "                                                                                \r"
     ]
    }
   ],
   "source": [
    "# Min number of ratings for songs\n",
    "ratings.groupBy(\"songId\").count().select(min(\"count\")).show()"
   ]
  },
  {
   "cell_type": "code",
   "execution_count": 10,
   "metadata": {},
   "outputs": [
    {
     "name": "stderr",
     "output_type": "stream",
     "text": [
      "[Stage 30:===================================================>      (8 + 1) / 9]\r"
     ]
    },
    {
     "name": "stdout",
     "output_type": "stream",
     "text": [
      "+-----------------+\n",
      "|       avg(count)|\n",
      "+-----------------+\n",
      "|558.3359685817926|\n",
      "+-----------------+\n",
      "\n"
     ]
    },
    {
     "name": "stderr",
     "output_type": "stream",
     "text": [
      "                                                                                \r"
     ]
    }
   ],
   "source": [
    "# Average number of ratings for songs\n",
    "ratings.groupBy(\"songId\").count().select(avg(\"count\")).show()"
   ]
  },
  {
   "cell_type": "code",
   "execution_count": 55,
   "metadata": {},
   "outputs": [
    {
     "name": "stderr",
     "output_type": "stream",
     "text": [
      "[Stage 0:======>            (1 + 2) / 3][Stage 97:================> (8 + 1) / 9]\r"
     ]
    },
    {
     "name": "stdout",
     "output_type": "stream",
     "text": [
      "+----------+\n",
      "|min(count)|\n",
      "+----------+\n",
      "|        20|\n",
      "+----------+\n",
      "\n"
     ]
    },
    {
     "name": "stderr",
     "output_type": "stream",
     "text": [
      "                                                                                \r"
     ]
    }
   ],
   "source": [
    "# Min number of ratings for users\n",
    "ratings.groupBy(\"userId\").count().select(min(\"count\")).show()"
   ]
  },
  {
   "cell_type": "code",
   "execution_count": 56,
   "metadata": {},
   "outputs": [
    {
     "name": "stderr",
     "output_type": "stream",
     "text": [
      "[Stage 0:======>            (1 + 2) / 3][Stage 103:===============> (8 + 1) / 9]\r"
     ]
    },
    {
     "name": "stdout",
     "output_type": "stream",
     "text": [
      "+----------+\n",
      "|avg(count)|\n",
      "+----------+\n",
      "|381.723135|\n",
      "+----------+\n",
      "\n"
     ]
    },
    {
     "name": "stderr",
     "output_type": "stream",
     "text": [
      "[Stage 0:===================>                                       (1 + 2) / 3]\r"
     ]
    }
   ],
   "source": [
    "# Avg number of ratings for users\n",
    "ratings.groupBy(\"userId\").count().select(avg(\"count\")).show()"
   ]
  },
  {
   "cell_type": "code",
   "execution_count": 59,
   "metadata": {},
   "outputs": [
    {
     "data": {
      "text/plain": [
       "['songId', 'albumId', 'artistId', 'genreId']"
      ]
     },
     "execution_count": 59,
     "metadata": {},
     "output_type": "execute_result"
    }
   ],
   "source": [
    "song_attributes.columns"
   ]
  },
  {
   "cell_type": "code",
   "execution_count": 60,
   "metadata": {},
   "outputs": [
    {
     "name": "stderr",
     "output_type": "stream",
     "text": [
      "                                                                                \r"
     ]
    },
    {
     "data": {
      "text/plain": [
       "20543"
      ]
     },
     "execution_count": 60,
     "metadata": {},
     "output_type": "execute_result"
    },
    {
     "name": "stderr",
     "output_type": "stream",
     "text": [
      "[Stage 0:===================>                                       (1 + 2) / 3]\r"
     ]
    }
   ],
   "source": [
    "# Total number of distinct albums\n",
    "song_attributes.select(\"albumId\").distinct().count()"
   ]
  },
  {
   "cell_type": "code",
   "execution_count": 61,
   "metadata": {},
   "outputs": [
    {
     "name": "stderr",
     "output_type": "stream",
     "text": [
      "                                                                                \r"
     ]
    },
    {
     "data": {
      "text/plain": [
       "9442"
      ]
     },
     "execution_count": 61,
     "metadata": {},
     "output_type": "execute_result"
    },
    {
     "name": "stderr",
     "output_type": "stream",
     "text": [
      "[Stage 0:===================>                                       (1 + 2) / 3]\r"
     ]
    }
   ],
   "source": [
    "# Total number of distinct artist\n",
    "song_attributes.select(\"artistId\").distinct().count()"
   ]
  },
  {
   "cell_type": "code",
   "execution_count": 62,
   "metadata": {},
   "outputs": [
    {
     "name": "stderr",
     "output_type": "stream",
     "text": [
      "                                                                                \r"
     ]
    },
    {
     "data": {
      "text/plain": [
       "58"
      ]
     },
     "execution_count": 62,
     "metadata": {},
     "output_type": "execute_result"
    },
    {
     "name": "stderr",
     "output_type": "stream",
     "text": [
      "[Stage 0:===================>                                       (1 + 2) / 3]\r"
     ]
    }
   ],
   "source": [
    "# Total number of distinct genres\n",
    "song_attributes.select(\"genreId\").distinct().count()"
   ]
  },
  {
   "cell_type": "code",
   "execution_count": 63,
   "metadata": {},
   "outputs": [
    {
     "data": {
      "text/plain": [
       "['genreId', 'parentGenreId', 'level', 'genreName']"
      ]
     },
     "execution_count": 63,
     "metadata": {},
     "output_type": "execute_result"
    }
   ],
   "source": [
    "genre_hierarchy.columns"
   ]
  },
  {
   "cell_type": "code",
   "execution_count": 64,
   "metadata": {},
   "outputs": [
    {
     "name": "stderr",
     "output_type": "stream",
     "text": [
      "                                                                                \r"
     ]
    },
    {
     "data": {
      "text/plain": [
       "37"
      ]
     },
     "execution_count": 64,
     "metadata": {},
     "output_type": "execute_result"
    },
    {
     "name": "stderr",
     "output_type": "stream",
     "text": [
      "[Stage 0:===================>                                       (1 + 2) / 3]\r"
     ]
    }
   ],
   "source": [
    "# Total number of distinct parent genres\n",
    "genre_hierarchy.select(\"parentGenreId\").distinct().count()"
   ]
  },
  {
   "cell_type": "markdown",
   "metadata": {},
   "source": [
    "## Feature Engineering"
   ]
  },
  {
   "cell_type": "code",
   "execution_count": 37,
   "metadata": {},
   "outputs": [],
   "source": [
    "sample = ratings.sample(.005)"
   ]
  },
  {
   "cell_type": "code",
   "execution_count": 17,
   "metadata": {},
   "outputs": [
    {
     "name": "stderr",
     "output_type": "stream",
     "text": [
      "                                                                                \r"
     ]
    },
    {
     "data": {
      "text/plain": [
       "382032"
      ]
     },
     "execution_count": 17,
     "metadata": {},
     "output_type": "execute_result"
    }
   ],
   "source": [
    "sample.count()"
   ]
  },
  {
   "cell_type": "code",
   "execution_count": 22,
   "metadata": {},
   "outputs": [
    {
     "name": "stdout",
     "output_type": "stream",
     "text": [
      "+------+------+------+\n",
      "|userId|songId|rating|\n",
      "+------+------+------+\n",
      "|     1| 42906|   5.0|\n",
      "+------+------+------+\n",
      "only showing top 1 row\n",
      "\n"
     ]
    }
   ],
   "source": [
    "sample.show(1)"
   ]
  },
  {
   "cell_type": "code",
   "execution_count": 23,
   "metadata": {},
   "outputs": [
    {
     "name": "stdout",
     "output_type": "stream",
     "text": [
      "+------+-------+--------+-------+\n",
      "|songId|albumId|artistId|genreId|\n",
      "+------+-------+--------+-------+\n",
      "|     0|  12070|    8490|      0|\n",
      "+------+-------+--------+-------+\n",
      "only showing top 1 row\n",
      "\n"
     ]
    }
   ],
   "source": [
    "song_attributes.show(1)"
   ]
  },
  {
   "cell_type": "code",
   "execution_count": 24,
   "metadata": {},
   "outputs": [
    {
     "name": "stdout",
     "output_type": "stream",
     "text": [
      "+-------+-------------+-----+---------+\n",
      "|genreId|parentGenreId|level|genreName|\n",
      "+-------+-------------+-----+---------+\n",
      "|      0|            0|    1|  Unknown|\n",
      "+-------+-------------+-----+---------+\n",
      "only showing top 1 row\n",
      "\n"
     ]
    }
   ],
   "source": [
    "genre_hierarchy.show(1)"
   ]
  },
  {
   "cell_type": "code",
   "execution_count": 38,
   "metadata": {},
   "outputs": [],
   "source": [
    "sample_full = sample.join(song_attributes, on=\"songId\", how=\"left\")"
   ]
  },
  {
   "cell_type": "code",
   "execution_count": 39,
   "metadata": {},
   "outputs": [
    {
     "name": "stderr",
     "output_type": "stream",
     "text": [
      "                                                                                \r"
     ]
    },
    {
     "name": "stdout",
     "output_type": "stream",
     "text": [
      "+------+------+------+-------+--------+-------+\n",
      "|songId|userId|rating|albumId|artistId|genreId|\n",
      "+------+------+------+-------+--------+-------+\n",
      "| 95852|     1|   2.0|  16864|    1974|      0|\n",
      "|121520|     2|   2.0|    118|    5499|      0|\n",
      "|  2033|     6|   5.0|   7575|    7548|      0|\n",
      "+------+------+------+-------+--------+-------+\n",
      "only showing top 3 rows\n",
      "\n"
     ]
    }
   ],
   "source": [
    "sample_full.show(3)"
   ]
  },
  {
   "cell_type": "code",
   "execution_count": 40,
   "metadata": {},
   "outputs": [
    {
     "name": "stdout",
     "output_type": "stream",
     "text": [
      "root\n",
      " |-- songId: integer (nullable = true)\n",
      " |-- userId: integer (nullable = true)\n",
      " |-- rating: double (nullable = true)\n",
      " |-- albumId: integer (nullable = true)\n",
      " |-- artistId: integer (nullable = true)\n",
      " |-- genreId: integer (nullable = true)\n",
      "\n"
     ]
    }
   ],
   "source": [
    "sample_full.printSchema()"
   ]
  },
  {
   "cell_type": "code",
   "execution_count": null,
   "metadata": {},
   "outputs": [
    {
     "name": "stderr",
     "output_type": "stream",
     "text": [
      "                                                                                \r"
     ]
    }
   ],
   "source": [
    "from pyspark.ml.feature import OneHotEncoder, VectorAssembler\n",
    "from pyspark.ml.recommendation import ALS\n",
    "\n",
    "# One-hot encode genre\n",
    "genreEncoder = OneHotEncoder(inputCols=[\"genreId\"], outputCols=[\"genreVec\"])\n",
    "df = genreEncoder.fit(sample_full).transform(sample_full)\n",
    "\n",
    "# Assemble features\n",
    "featureCols = [\"userId\", \"songId\", \"genreVec\", \"artistId\"]\n",
    "assembler = VectorAssembler(inputCols=featureCols, outputCol=\"features\")\n",
    "df = assembler.transform(df)"
   ]
  },
  {
   "cell_type": "code",
   "execution_count": 44,
   "metadata": {},
   "outputs": [],
   "source": [
    "\n",
    "from pyspark.ml.feature import VectorAssembler\n",
    "from pyspark.ml.feature import PCA\n",
    "\n",
    "assembler = VectorAssembler(inputCols=[\"artistId_embedding\"], outputCol=\"artistId_features\")\n",
    "df = assembler.transform(df)\n",
    "\n",
    "pca = PCA(k=10, inputCol=\"artistId_features\", outputCol=\"artistId_embeddings\")\n",
    "model = pca.fit(df)\n",
    "df = model.transform(df)\n"
   ]
  },
  {
   "cell_type": "code",
   "execution_count": 45,
   "metadata": {},
   "outputs": [
    {
     "name": "stderr",
     "output_type": "stream",
     "text": [
      "                                                                                \r"
     ]
    },
    {
     "name": "stdout",
     "output_type": "stream",
     "text": [
      "+------+------+------+-------+--------+-------+-----------------+--------------------+\n",
      "|songId|userId|rating|albumId|artistId|genreId|         genreVec|            features|\n",
      "+------+------+------+-------+--------+-------+-----------------+--------------------+\n",
      "| 95852|     1|   2.0|  16864|    1974|      0|  (215,[0],[1.0])|(218,[0,1,2,217],...|\n",
      "|121520|     2|   2.0|    118|    5499|      0|  (215,[0],[1.0])|(218,[0,1,2,217],...|\n",
      "|  2033|     6|   5.0|   7575|    7548|      0|  (215,[0],[1.0])|(218,[0,1,2,217],...|\n",
      "| 32224|     6|   1.0|  17581|    2022|      0|  (215,[0],[1.0])|(218,[0,1,2,217],...|\n",
      "| 36415|     6|   3.0|   1705|     481|      0|  (215,[0],[1.0])|(218,[0,1,2,217],...|\n",
      "| 42011|     6|   5.0|   7169|    2105|      0|  (215,[0],[1.0])|(218,[0,1,2,217],...|\n",
      "| 43799|     6|   4.0|  17179|    6011|      0|  (215,[0],[1.0])|(218,[0,1,2,217],...|\n",
      "| 52022|     6|   5.0|    138|    2999|    106|(215,[106],[1.0])|(218,[0,1,108,217...|\n",
      "| 53514|     6|   3.0|   7068|    5574|      0|  (215,[0],[1.0])|(218,[0,1,2,217],...|\n",
      "| 60720|     6|   5.0|   5682|    3651|      0|  (215,[0],[1.0])|(218,[0,1,2,217],...|\n",
      "| 87805|     9|   5.0|   8816|    3952|      0|  (215,[0],[1.0])|(218,[0,1,2,217],...|\n",
      "| 81100|    10|   2.0|   9405|    4453|      0|  (215,[0],[1.0])|(218,[0,1,2,217],...|\n",
      "| 17674|    11|   2.0|   9612|    6092|      0|  (215,[0],[1.0])|(218,[0,1,2,217],...|\n",
      "| 19094|    11|   2.0|  11216|    1553|      0|  (215,[0],[1.0])|(218,[0,1,2,217],...|\n",
      "| 69162|    11|   4.0|   9207|     896|      0|  (215,[0],[1.0])|(218,[0,1,2,217],...|\n",
      "| 69903|    11|   2.0|  19308|    3491|      0|  (215,[0],[1.0])|(218,[0,1,2,217],...|\n",
      "| 91483|    11|   5.0|  19556|    8937|      0|  (215,[0],[1.0])|(218,[0,1,2,217],...|\n",
      "|120007|    11|   4.0|   3840|    8652|      0|  (215,[0],[1.0])|(218,[0,1,2,217],...|\n",
      "|100968|    12|   3.0|  17089|    2765|      0|  (215,[0],[1.0])|(218,[0,1,2,217],...|\n",
      "|130515|    15|   1.0|  17648|    1534|      0|  (215,[0],[1.0])|(218,[0,1,2,217],...|\n",
      "+------+------+------+-------+--------+-------+-----------------+--------------------+\n",
      "only showing top 20 rows\n",
      "\n"
     ]
    }
   ],
   "source": [
    "df.show()"
   ]
  },
  {
   "cell_type": "markdown",
   "metadata": {
    "application/vnd.databricks.v1+cell": {
     "cellMetadata": {},
     "inputWidgets": {},
     "nuid": "6efdae81-0139-4c20-acb7-ce861c7925de",
     "showTitle": false,
     "title": ""
    }
   },
   "source": [
    "## Train the model on ALS"
   ]
  },
  {
   "cell_type": "code",
   "execution_count": null,
   "metadata": {
    "application/vnd.databricks.v1+cell": {
     "cellMetadata": {
      "byteLimit": 2048000,
      "rowLimit": 10000
     },
     "inputWidgets": {},
     "nuid": "8666ed4d-3e8d-4397-aa79-e71f277b4240",
     "showTitle": false,
     "title": ""
    }
   },
   "outputs": [],
   "source": [
    "from pyspark.ml.recommendation import ALS\n",
    "from pyspark.ml.evaluation import RegressionEvaluator\n",
    "from pyspark.ml.tuning import ParamGridBuilder, CrossValidator"
   ]
  },
  {
   "cell_type": "code",
   "execution_count": null,
   "metadata": {
    "application/vnd.databricks.v1+cell": {
     "cellMetadata": {
      "byteLimit": 2048000,
      "rowLimit": 10000
     },
     "inputWidgets": {},
     "nuid": "ae5fc688-d658-4347-9551-af75df74e433",
     "showTitle": false,
     "title": ""
    }
   },
   "outputs": [],
   "source": [
    "als = ALS(userCol=\"userId\", itemCol=\"songId\", ratingCol=\"rating\", nonnegative=True, implicitPrefs=False)"
   ]
  },
  {
   "cell_type": "code",
   "execution_count": null,
   "metadata": {
    "application/vnd.databricks.v1+cell": {
     "cellMetadata": {
      "byteLimit": 2048000,
      "rowLimit": 10000
     },
     "inputWidgets": {},
     "nuid": "3c513af0-127a-4aa8-825d-2de9ff72e6eb",
     "showTitle": false,
     "title": ""
    }
   },
   "outputs": [
    {
     "name": "stdout",
     "output_type": "stream",
     "text": [
      "Out[64]: pyspark.ml.recommendation.ALS"
     ]
    }
   ],
   "source": [
    "type(als)"
   ]
  },
  {
   "cell_type": "code",
   "execution_count": null,
   "metadata": {
    "application/vnd.databricks.v1+cell": {
     "cellMetadata": {
      "byteLimit": 2048000,
      "rowLimit": 10000
     },
     "inputWidgets": {},
     "nuid": "260ba5d8-d5b8-4bcd-8a3d-168ede30f9e9",
     "showTitle": false,
     "title": ""
    }
   },
   "outputs": [
    {
     "data": {
      "text/plain": [
       "\u001b[0;31m---------------------------------------------------------------------------\u001b[0m\n",
       "\u001b[0;31mNameError\u001b[0m                                 Traceback (most recent call last)\n",
       "\u001b[0;32m<command-3863082808769900>\u001b[0m in \u001b[0;36m<cell line: 1>\u001b[0;34m()\u001b[0m\n",
       "\u001b[1;32m      1\u001b[0m \u001b[0mparam_grid\u001b[0m \u001b[0;34m=\u001b[0m \u001b[0mParamGridBuilder\u001b[0m\u001b[0;34m(\u001b[0m\u001b[0;34m)\u001b[0m\u001b[0;31m \u001b[0m\u001b[0;31m\\\u001b[0m\u001b[0;34m\u001b[0m\u001b[0;34m\u001b[0m\u001b[0m\n",
       "\u001b[0;32m----> 2\u001b[0;31m     \u001b[0;34m.\u001b[0m\u001b[0maddGrid\u001b[0m\u001b[0;34m(\u001b[0m\u001b[0mals\u001b[0m\u001b[0;34m.\u001b[0m\u001b[0mrank\u001b[0m\u001b[0;34m,\u001b[0m \u001b[0;34m[\u001b[0m\u001b[0;36m10\u001b[0m\u001b[0;34m,\u001b[0m \u001b[0;36m50\u001b[0m\u001b[0;34m,\u001b[0m \u001b[0;36m100\u001b[0m\u001b[0;34m]\u001b[0m\u001b[0;34m)\u001b[0m\u001b[0;31m \u001b[0m\u001b[0;31m\\\u001b[0m\u001b[0;34m\u001b[0m\u001b[0;34m\u001b[0m\u001b[0m\n",
       "\u001b[0m\u001b[1;32m      3\u001b[0m     \u001b[0;34m.\u001b[0m\u001b[0maddGrid\u001b[0m\u001b[0;34m(\u001b[0m\u001b[0mals\u001b[0m\u001b[0;34m.\u001b[0m\u001b[0mmaxIter\u001b[0m\u001b[0;34m,\u001b[0m \u001b[0;34m[\u001b[0m\u001b[0;36m5\u001b[0m\u001b[0;34m,\u001b[0m \u001b[0;36m50\u001b[0m\u001b[0;34m,\u001b[0m \u001b[0;36m100\u001b[0m\u001b[0;34m]\u001b[0m\u001b[0;34m)\u001b[0m\u001b[0;31m \u001b[0m\u001b[0;31m\\\u001b[0m\u001b[0;34m\u001b[0m\u001b[0;34m\u001b[0m\u001b[0m\n",
       "\u001b[1;32m      4\u001b[0m     \u001b[0;34m.\u001b[0m\u001b[0maddGrid\u001b[0m\u001b[0;34m(\u001b[0m\u001b[0mals\u001b[0m\u001b[0;34m.\u001b[0m\u001b[0mregParam\u001b[0m\u001b[0;34m,\u001b[0m \u001b[0;34m[\u001b[0m\u001b[0;36m.01\u001b[0m\u001b[0;34m,\u001b[0m \u001b[0;36m.05\u001b[0m\u001b[0;34m,\u001b[0m \u001b[0;36m.1\u001b[0m\u001b[0;34m]\u001b[0m\u001b[0;34m)\u001b[0m\u001b[0;31m \u001b[0m\u001b[0;31m\\\u001b[0m\u001b[0;34m\u001b[0m\u001b[0;34m\u001b[0m\u001b[0m\n",
       "\u001b[1;32m      5\u001b[0m     \u001b[0;34m.\u001b[0m\u001b[0mbuild\u001b[0m\u001b[0;34m(\u001b[0m\u001b[0;34m)\u001b[0m\u001b[0;34m\u001b[0m\u001b[0;34m\u001b[0m\u001b[0m\n",
       "\n",
       "\u001b[0;31mNameError\u001b[0m: name 'als' is not defined"
      ]
     },
     "metadata": {
      "application/vnd.databricks.v1+output": {
       "arguments": {},
       "data": "\u001b[0;31m---------------------------------------------------------------------------\u001b[0m\n\u001b[0;31mNameError\u001b[0m                                 Traceback (most recent call last)\n\u001b[0;32m<command-3863082808769900>\u001b[0m in \u001b[0;36m<cell line: 1>\u001b[0;34m()\u001b[0m\n\u001b[1;32m      1\u001b[0m \u001b[0mparam_grid\u001b[0m \u001b[0;34m=\u001b[0m \u001b[0mParamGridBuilder\u001b[0m\u001b[0;34m(\u001b[0m\u001b[0;34m)\u001b[0m\u001b[0;31m \u001b[0m\u001b[0;31m\\\u001b[0m\u001b[0;34m\u001b[0m\u001b[0;34m\u001b[0m\u001b[0m\n\u001b[0;32m----> 2\u001b[0;31m     \u001b[0;34m.\u001b[0m\u001b[0maddGrid\u001b[0m\u001b[0;34m(\u001b[0m\u001b[0mals\u001b[0m\u001b[0;34m.\u001b[0m\u001b[0mrank\u001b[0m\u001b[0;34m,\u001b[0m \u001b[0;34m[\u001b[0m\u001b[0;36m10\u001b[0m\u001b[0;34m,\u001b[0m \u001b[0;36m50\u001b[0m\u001b[0;34m,\u001b[0m \u001b[0;36m100\u001b[0m\u001b[0;34m]\u001b[0m\u001b[0;34m)\u001b[0m\u001b[0;31m \u001b[0m\u001b[0;31m\\\u001b[0m\u001b[0;34m\u001b[0m\u001b[0;34m\u001b[0m\u001b[0m\n\u001b[0m\u001b[1;32m      3\u001b[0m     \u001b[0;34m.\u001b[0m\u001b[0maddGrid\u001b[0m\u001b[0;34m(\u001b[0m\u001b[0mals\u001b[0m\u001b[0;34m.\u001b[0m\u001b[0mmaxIter\u001b[0m\u001b[0;34m,\u001b[0m \u001b[0;34m[\u001b[0m\u001b[0;36m5\u001b[0m\u001b[0;34m,\u001b[0m \u001b[0;36m50\u001b[0m\u001b[0;34m,\u001b[0m \u001b[0;36m100\u001b[0m\u001b[0;34m]\u001b[0m\u001b[0;34m)\u001b[0m\u001b[0;31m \u001b[0m\u001b[0;31m\\\u001b[0m\u001b[0;34m\u001b[0m\u001b[0;34m\u001b[0m\u001b[0m\n\u001b[1;32m      4\u001b[0m     \u001b[0;34m.\u001b[0m\u001b[0maddGrid\u001b[0m\u001b[0;34m(\u001b[0m\u001b[0mals\u001b[0m\u001b[0;34m.\u001b[0m\u001b[0mregParam\u001b[0m\u001b[0;34m,\u001b[0m \u001b[0;34m[\u001b[0m\u001b[0;36m.01\u001b[0m\u001b[0;34m,\u001b[0m \u001b[0;36m.05\u001b[0m\u001b[0;34m,\u001b[0m \u001b[0;36m.1\u001b[0m\u001b[0;34m]\u001b[0m\u001b[0;34m)\u001b[0m\u001b[0;31m \u001b[0m\u001b[0;31m\\\u001b[0m\u001b[0;34m\u001b[0m\u001b[0;34m\u001b[0m\u001b[0m\n\u001b[1;32m      5\u001b[0m     \u001b[0;34m.\u001b[0m\u001b[0mbuild\u001b[0m\u001b[0;34m(\u001b[0m\u001b[0;34m)\u001b[0m\u001b[0;34m\u001b[0m\u001b[0;34m\u001b[0m\u001b[0m\n\n\u001b[0;31mNameError\u001b[0m: name 'als' is not defined",
       "errorSummary": "<span class='ansi-red-fg'>NameError</span>: name 'als' is not defined",
       "errorTraceType": "ansi",
       "metadata": {},
       "type": "ipynbError"
      }
     },
     "output_type": "display_data"
    }
   ],
   "source": [
    "param_grid = ParamGridBuilder() \\\n",
    "    .addGrid(als.rank, [10, 50, 100]) \\\n",
    "    .addGrid(als.maxIter, [5, 50, 100]) \\\n",
    "    .addGrid(als.regParam, [.01, .05, .1]) \\\n",
    "    .build()"
   ]
  },
  {
   "cell_type": "code",
   "execution_count": null,
   "metadata": {
    "application/vnd.databricks.v1+cell": {
     "cellMetadata": {
      "byteLimit": 2048000,
      "rowLimit": 10000
     },
     "inputWidgets": {},
     "nuid": "87e72fe0-fc19-427a-83da-fce641485c7b",
     "showTitle": false,
     "title": ""
    }
   },
   "outputs": [
    {
     "name": "stdout",
     "output_type": "stream",
     "text": [
      "Num models to be tested:  27\n"
     ]
    }
   ],
   "source": [
    "evaluator = RegressionEvaluator(metricName=\"rmse\", labelCol=\"rating\", predictionCol=\"prediction\")\n",
    "print (\"Num models to be tested: \", len(param_grid))"
   ]
  },
  {
   "cell_type": "code",
   "execution_count": null,
   "metadata": {
    "application/vnd.databricks.v1+cell": {
     "cellMetadata": {
      "byteLimit": 2048000,
      "rowLimit": 10000
     },
     "inputWidgets": {},
     "nuid": "fb5be87b-dc17-46fc-90a9-77c0b9a0e963",
     "showTitle": false,
     "title": ""
    }
   },
   "outputs": [
    {
     "name": "stdout",
     "output_type": "stream",
     "text": [
      "CrossValidator_4f0d5522d025\n"
     ]
    }
   ],
   "source": [
    "cv = CrossValidator(estimator=als, estimatorParamMaps=param_grid, evaluator=evaluator, numFolds=5)\n",
    "print(cv)"
   ]
  },
  {
   "cell_type": "code",
   "execution_count": null,
   "metadata": {
    "application/vnd.databricks.v1+cell": {
     "cellMetadata": {
      "byteLimit": 2048000,
      "rowLimit": 10000
     },
     "inputWidgets": {},
     "nuid": "8045ade1-a140-4bed-8bd4-1d7da67ebad6",
     "showTitle": false,
     "title": ""
    }
   },
   "outputs": [
    {
     "data": {
      "text/html": [
       "<style scoped>\n",
       "  .ansiout {\n",
       "    display: block;\n",
       "    unicode-bidi: embed;\n",
       "    white-space: pre-wrap;\n",
       "    word-wrap: break-word;\n",
       "    word-break: break-all;\n",
       "    font-family: \"Source Code Pro\", \"Menlo\", monospace;;\n",
       "    font-size: 13px;\n",
       "    color: #555;\n",
       "    margin-left: 4px;\n",
       "    line-height: 19px;\n",
       "  }\n",
       "</style>"
      ]
     },
     "metadata": {
      "application/vnd.databricks.v1+output": {
       "arguments": {},
       "data": "",
       "errorSummary": "Cancelled",
       "errorTraceType": "html",
       "metadata": {},
       "type": "ipynbError"
      }
     },
     "output_type": "display_data"
    }
   ],
   "source": [
    "model = cv.fit(ratings)"
   ]
  },
  {
   "cell_type": "code",
   "execution_count": null,
   "metadata": {
    "application/vnd.databricks.v1+cell": {
     "cellMetadata": {
      "byteLimit": 2048000,
      "rowLimit": 10000
     },
     "inputWidgets": {},
     "nuid": "e64296b3-5464-47d0-885a-f4eab906d1c2",
     "showTitle": false,
     "title": ""
    }
   },
   "outputs": [
    {
     "data": {
      "text/html": [
       "<style scoped>\n",
       "  .ansiout {\n",
       "    display: block;\n",
       "    unicode-bidi: embed;\n",
       "    white-space: pre-wrap;\n",
       "    word-wrap: break-word;\n",
       "    word-break: break-all;\n",
       "    font-family: \"Source Code Pro\", \"Menlo\", monospace;;\n",
       "    font-size: 13px;\n",
       "    color: #555;\n",
       "    margin-left: 4px;\n",
       "    line-height: 19px;\n",
       "  }\n",
       "</style>"
      ]
     },
     "metadata": {
      "application/vnd.databricks.v1+output": {
       "arguments": {},
       "data": "",
       "errorSummary": "Cancelled",
       "errorTraceType": "html",
       "metadata": {},
       "type": "ipynbError"
      }
     },
     "output_type": "display_data"
    }
   ],
   "source": [
    "model.save('/cv27')"
   ]
  },
  {
   "cell_type": "code",
   "execution_count": null,
   "metadata": {
    "application/vnd.databricks.v1+cell": {
     "cellMetadata": {
      "byteLimit": 2048000,
      "rowLimit": 10000
     },
     "inputWidgets": {},
     "nuid": "6d905c9b-1bb9-45ae-9160-8f02b71602ad",
     "showTitle": false,
     "title": ""
    }
   },
   "outputs": [
    {
     "data": {
      "text/html": [
       "<style scoped>\n",
       "  .ansiout {\n",
       "    display: block;\n",
       "    unicode-bidi: embed;\n",
       "    white-space: pre-wrap;\n",
       "    word-wrap: break-word;\n",
       "    word-break: break-all;\n",
       "    font-family: \"Source Code Pro\", \"Menlo\", monospace;;\n",
       "    font-size: 13px;\n",
       "    color: #555;\n",
       "    margin-left: 4px;\n",
       "    line-height: 19px;\n",
       "  }\n",
       "</style>"
      ]
     },
     "metadata": {
      "application/vnd.databricks.v1+output": {
       "arguments": {},
       "data": "",
       "errorSummary": "Cancelled",
       "errorTraceType": "html",
       "metadata": {},
       "type": "ipynbError"
      }
     },
     "output_type": "display_data"
    }
   ],
   "source": [
    "best_model = model.bestModel\n",
    "best_model.write().overwrite().save('/cv27_model')"
   ]
  },
  {
   "cell_type": "code",
   "execution_count": null,
   "metadata": {
    "application/vnd.databricks.v1+cell": {
     "cellMetadata": {
      "byteLimit": 2048000,
      "rowLimit": 10000
     },
     "inputWidgets": {},
     "nuid": "e578a68c-0a6c-4daf-9000-183404f5ec91",
     "showTitle": false,
     "title": ""
    }
   },
   "outputs": [],
   "source": [
    "als = ALS(userCol=\"userId\", itemCol=\"songId\", ratingCol=\"rating\", rank=50, maxIter=50, regParam=.05)"
   ]
  },
  {
   "cell_type": "code",
   "execution_count": null,
   "metadata": {
    "application/vnd.databricks.v1+cell": {
     "cellMetadata": {
      "byteLimit": 2048000,
      "rowLimit": 10000
     },
     "inputWidgets": {},
     "nuid": "87a97f47-d859-4ac1-80db-292d1c797f3b",
     "showTitle": false,
     "title": ""
    }
   },
   "outputs": [],
   "source": [
    "model = als.fit(ratings)\n",
    "model.write().overwrite().save('/model')"
   ]
  },
  {
   "cell_type": "code",
   "execution_count": null,
   "metadata": {
    "application/vnd.databricks.v1+cell": {
     "cellMetadata": {
      "byteLimit": 2048000,
      "rowLimit": 10000
     },
     "inputWidgets": {},
     "nuid": "e7b522b0-76f5-44a6-95a5-c3e149aa32b9",
     "showTitle": false,
     "title": ""
    }
   },
   "outputs": [
    {
     "name": "stdout",
     "output_type": "stream",
     "text": [
      "Out[13]: ALSModel: uid=ALS_78be94afd140, rank=50"
     ]
    }
   ],
   "source": [
    "from pyspark.ml.recommendation import ALSModel\n",
    "model_loaded = ALSModel.load('/model')\n",
    "model_loaded"
   ]
  },
  {
   "cell_type": "code",
   "execution_count": null,
   "metadata": {
    "application/vnd.databricks.v1+cell": {
     "cellMetadata": {},
     "inputWidgets": {},
     "nuid": "81014ec6-3e99-4f3d-ad80-14b2e5ea174d",
     "showTitle": false,
     "title": ""
    }
   },
   "outputs": [],
   "source": [
    "\"\"\"\n",
    "param_grid = ParamGridBuilder() \\\n",
    "    .addGrid(als.rank, [10, 50, 100]) \\\n",
    "    .addGrid(als.maxIter, [5, 50, 100]) \\\n",
    "    .addGrid(als.regParam, [.01, .05, .1]) \\\n",
    "    .build()\n",
    "\"\"\""
   ]
  },
  {
   "cell_type": "code",
   "execution_count": null,
   "metadata": {
    "application/vnd.databricks.v1+cell": {
     "cellMetadata": {
      "byteLimit": 2048000,
      "rowLimit": 10000
     },
     "inputWidgets": {},
     "nuid": "b42ac95e-546d-4249-9eb5-440bda90faa6",
     "showTitle": false,
     "title": ""
    }
   },
   "outputs": [
    {
     "name": "stdout",
     "output_type": "stream",
     "text": [
      "64\n"
     ]
    }
   ],
   "source": [
    "import itertools\n",
    "ranks = [10, 50, 100, 150]\n",
    "maxIters = [5, 50, 100, 200]\n",
    "regParams = [.01, .05, .1, .15]\n",
    "param_grid = list(itertools.product(ranks, maxIters, regParams))\n",
    "print(len(param_grid))"
   ]
  },
  {
   "cell_type": "code",
   "execution_count": null,
   "metadata": {
    "application/vnd.databricks.v1+cell": {
     "cellMetadata": {
      "byteLimit": 2048000,
      "rowLimit": 10000
     },
     "inputWidgets": {},
     "nuid": "12d13836-b8be-4cb5-857a-18da691d78b2",
     "showTitle": false,
     "title": ""
    }
   },
   "outputs": [],
   "source": [
    "(train, evaluation) = ratings.randomSplit([0.8, 0.2], seed=11)"
   ]
  },
  {
   "cell_type": "code",
   "execution_count": null,
   "metadata": {},
   "outputs": [],
   "source": [
    "for idx, params in enumerate(param_grid[12:]):\n",
    "    rank, maxIter, regParam = params\n",
    "    \n",
    "    als = ALS(userCol=\"userId\", itemCol=\"songId\", ratingCol=\"rating\",\n",
    "        rank=rank, maxIter=maxIter, regParam=regParam,\n",
    "        nonnegative=True, implicitPrefs=False)\n",
    "    evaluator = RegressionEvaluator(metricName=\"rmse\", labelCol=\"rating\", predictionCol=\"prediction\")\n",
    "\n",
    "    model = als.fit(train)\n",
    "    predictions = model.transform(evaluation)\n",
    "    rmse = evaluator.evaluate(predictions)\n",
    "    model_str = f\"rank{rank}_maxIter{maxIter}_regParam_{str(regParam)[2:]}\"\n",
    "    model.write().overwrite().save(f'/models/{model_str}')\n",
    "    print(f\"{idx+1}/64: {rank=}, {maxIter=}, {regParam=}, {rmse=}\")"
   ]
  },
  {
   "cell_type": "markdown",
   "metadata": {
    "application/vnd.databricks.v1+cell": {
     "cellMetadata": {},
     "inputWidgets": {},
     "nuid": "290bca7f-258a-49e8-96eb-b3a742f09ce0",
     "showTitle": false,
     "title": ""
    }
   },
   "source": [
    "## Tuning Rank parameter"
   ]
  },
  {
   "cell_type": "code",
   "execution_count": null,
   "metadata": {
    "application/vnd.databricks.v1+cell": {
     "cellMetadata": {
      "byteLimit": 2048000,
      "rowLimit": 10000
     },
     "inputWidgets": {},
     "nuid": "ebba2059-e049-4fbd-94d1-fbb3bbe3338f",
     "showTitle": false,
     "title": ""
    }
   },
   "outputs": [
    {
     "name": "stdout",
     "output_type": "stream",
     "text": [
      "Out[6]: 609976"
     ]
    }
   ],
   "source": [
    "# sample train datset\n",
    "sample = ratings.sample(0.01)\n",
    "test_sample, train_sample = sample.randomSplit([0.2, 0.8])\n",
    "train_sample.count()"
   ]
  },
  {
   "cell_type": "code",
   "execution_count": null,
   "metadata": {
    "application/vnd.databricks.v1+cell": {
     "cellMetadata": {
      "byteLimit": 2048000,
      "rowLimit": 10000
     },
     "inputWidgets": {},
     "nuid": "400154d0-4261-490c-8cd4-88bac253aa33",
     "showTitle": false,
     "title": ""
    }
   },
   "outputs": [],
   "source": [
    "ranks_50 = {}"
   ]
  },
  {
   "cell_type": "code",
   "execution_count": null,
   "metadata": {
    "application/vnd.databricks.v1+cell": {
     "cellMetadata": {
      "byteLimit": 2048000,
      "rowLimit": 10000
     },
     "inputWidgets": {},
     "nuid": "39d79fe2-b00b-4100-8308-91a47c9fb729",
     "showTitle": false,
     "title": ""
    }
   },
   "outputs": [
    {
     "name": "stdout",
     "output_type": "stream",
     "text": [
      "rank=150, rmse=1.7157478812876805\n"
     ]
    }
   ],
   "source": [
    "\n",
    "for rank in range(150,151):\n",
    "    als = ALS(userCol=\"userId\", itemCol=\"songId\", ratingCol=\"rating\",\n",
    "        rank=rank, maxIter=50, regParam=0.05,\n",
    "        nonnegative=True, implicitPrefs=False)\n",
    "    evaluator = RegressionEvaluator(metricName=\"rmse\", labelCol=\"rating\", predictionCol=\"prediction\")\n",
    "\n",
    "    model = als.fit(train_sample)\n",
    "    predictions = model.transform(test_sample)\n",
    "    predictions = predictions.dropna(subset=['prediction'])\n",
    "    rmse = evaluator.evaluate(predictions)\n",
    "\n",
    "    ranks_50[rank] = rmse\n",
    "    print(f\"{rank=}, {rmse=}\")"
   ]
  },
  {
   "cell_type": "code",
   "execution_count": null,
   "metadata": {
    "application/vnd.databricks.v1+cell": {
     "cellMetadata": {
      "byteLimit": 2048000,
      "rowLimit": 10000
     },
     "inputWidgets": {},
     "nuid": "9c4605dd-f67b-4824-9ea0-bbc2511b5d37",
     "showTitle": false,
     "title": ""
    }
   },
   "outputs": [
    {
     "name": "stdout",
     "output_type": "stream",
     "text": [
      "Out[30]: {1: 1.5738254559812397,\n",
      " 2: 1.7862062410533497,\n",
      " 3: 1.830120381576723,\n",
      " 4: 1.844480201435181,\n",
      " 5: 1.8443998551133574,\n",
      " 6: 1.833095297169888,\n",
      " 7: 1.8215729324578764,\n",
      " 8: 1.8095579813535516,\n",
      " 9: 1.8021120902463084,\n",
      " 10: 1.795516325522329,\n",
      " 11: 1.7887097093359647,\n",
      " 12: 1.7796768753020331,\n",
      " 13: 1.7703265081119,\n",
      " 14: 1.7692787523052425,\n",
      " 15: 1.7651032653333134,\n",
      " 16: 1.7571136542119237,\n",
      " 17: 1.7580747610422685,\n",
      " 18: 1.7528779162616985,\n",
      " 19: 1.751732248092146,\n",
      " 20: 1.7497395190308473,\n",
      " 21: 1.7457419648124402,\n",
      " 22: 1.744828993047792,\n",
      " 23: 1.7448290657166032,\n",
      " 24: 1.7406102807320454,\n",
      " 25: 1.7406522465608711,\n",
      " 26: 1.7398375882501547,\n",
      " 27: 1.7397161243130663,\n",
      " 28: 1.7375032653103177,\n",
      " 29: 1.737227358697863,\n",
      " 30: 1.7366466380797465,\n",
      " 31: 1.7343397740655777,\n",
      " 32: 1.733996196441696,\n",
      " 33: 1.7354131267699846,\n",
      " 34: 1.7325105979610314,\n",
      " 35: 1.732347120130002,\n",
      " 36: 1.730183685922928,\n",
      " 37: 1.7308144172711677,\n",
      " 38: 1.7293240014290532,\n",
      " 39: 1.729731229439743,\n",
      " 40: 1.7290512805903302,\n",
      " 41: 1.7292155172643553,\n",
      " 42: 1.7277586851886515,\n",
      " 43: 1.7289542519261116,\n",
      " 44: 1.7264978426263553,\n",
      " 45: 1.7252554733841845,\n",
      " 46: 1.726992492544993,\n",
      " 47: 1.728000252422763,\n",
      " 48: 1.7256458126595169,\n",
      " 49: 1.7260288802727612,\n",
      " 50: 1.725037807425698}"
     ]
    }
   ],
   "source": [
    "ranks_50"
   ]
  },
  {
   "cell_type": "code",
   "execution_count": null,
   "metadata": {
    "application/vnd.databricks.v1+cell": {
     "cellMetadata": {
      "byteLimit": 2048000,
      "rowLimit": 10000
     },
     "inputWidgets": {},
     "nuid": "85fdc743-cede-4fdd-a311-25fe7d437b47",
     "showTitle": false,
     "title": ""
    }
   },
   "outputs": [
    {
     "name": "stdout",
     "output_type": "stream",
     "text": [
      "Out[33]: 0.95557353441972"
     ]
    }
   ],
   "source": [
    "1.7157478812876805 / 1.795516325522329"
   ]
  },
  {
   "cell_type": "code",
   "execution_count": null,
   "metadata": {
    "application/vnd.databricks.v1+cell": {
     "cellMetadata": {
      "byteLimit": 2048000,
      "rowLimit": 10000
     },
     "inputWidgets": {},
     "nuid": "74eb66d5-c8cb-4985-8033-0af76a1e84fb",
     "showTitle": false,
     "title": ""
    }
   },
   "outputs": [
    {
     "name": "stdout",
     "output_type": "stream",
     "text": [
      "Out[34]: 1.0175365504868563"
     ]
    }
   ],
   "source": [
    "1.0648437967725464 * 0.95557353441972"
   ]
  },
  {
   "cell_type": "code",
   "execution_count": null,
   "metadata": {
    "application/vnd.databricks.v1+cell": {
     "cellMetadata": {
      "byteLimit": 2048000,
      "rowLimit": 10000
     },
     "inputWidgets": {},
     "nuid": "908ce838-e12d-40ab-8ee5-8c4c2fd3563a",
     "showTitle": false,
     "title": ""
    }
   },
   "outputs": [
    {
     "data": {
      "image/png": "[encoded data removed]"
     },
     "metadata": {
      "application/vnd.databricks.v1+output": {
       "addedWidgets": {},
       "arguments": {},
       "data": "data:image/png;base64,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\n",
       "datasetInfos": [],
       "metadata": {},
       "removedWidgets": [],
       "type": "image"
      }
     },
     "output_type": "display_data"
    }
   ],
   "source": [
    "import matplotlib.pyplot as plt\n",
    "\n",
    "rks = list(ranks_50.keys())[4:]\n",
    "rmse = list(ranks_50.values())[4:]\n",
    "\n",
    "plt.scatter(rks, rmse)\n",
    "plt.plot(rks, rmse)\n",
    "\n",
    "plt.xlabel('Rank')\n",
    "plt.ylabel('RMSE')\n",
    "plt.title('RMSE vs. Rank')\n",
    "\n",
    "plt.show()"
   ]
  },
  {
   "cell_type": "markdown",
   "metadata": {
    "application/vnd.databricks.v1+cell": {
     "cellMetadata": {},
     "inputWidgets": {},
     "nuid": "1e7d8d1c-324c-455c-8145-dd9cbfe6ddd6",
     "showTitle": false,
     "title": ""
    }
   },
   "source": [
    "## Final Model"
   ]
  },
  {
   "cell_type": "code",
   "execution_count": null,
   "metadata": {
    "application/vnd.databricks.v1+cell": {
     "cellMetadata": {},
     "inputWidgets": {},
     "nuid": "82abf1a7-467b-45b4-a897-25dea6f22a24",
     "showTitle": false,
     "title": ""
    }
   },
   "outputs": [],
   "source": [
    "ranks = [10, 50, 100, 150]\n",
    "maxIters = [5, 50, 100, 200]\n",
    "regParams = [.01, .05, .1, .15]"
   ]
  },
  {
   "cell_type": "code",
   "execution_count": null,
   "metadata": {
    "application/vnd.databricks.v1+cell": {
     "cellMetadata": {
      "byteLimit": 2048000,
      "rowLimit": 10000
     },
     "inputWidgets": {},
     "nuid": "41fc0c71-4b2e-44f6-b0f4-846e46c546b5",
     "showTitle": false,
     "title": ""
    }
   },
   "outputs": [],
   "source": [
    "from pyspark.ml.recommendation import ALS\n",
    "from pyspark.ml.evaluation import RegressionEvaluator"
   ]
  },
  {
   "cell_type": "code",
   "execution_count": null,
   "metadata": {
    "application/vnd.databricks.v1+cell": {
     "cellMetadata": {
      "byteLimit": 2048000,
      "rowLimit": 10000
     },
     "inputWidgets": {},
     "nuid": "25e6a113-b112-4dec-96a6-f8d2facbe1fe",
     "showTitle": false,
     "title": ""
    }
   },
   "outputs": [],
   "source": [
    "rank, maxIter, regParam = 50, 100, 0.05\n",
    "\n",
    "als = ALS(userCol=\"userId\", itemCol=\"songId\", ratingCol=\"rating\",\n",
    "    rank=rank, maxIter=maxIter, regParam=regParam,\n",
    "    nonnegative=True, implicitPrefs=False)\n",
    "evaluator = RegressionEvaluator(metricName=\"rmse\", labelCol=\"rating\", predictionCol=\"prediction\")\n",
    "\n",
    "model = als.fit(train)\n",
    "predictions = model.transform(evaluation)\n",
    "rmse = evaluator.evaluate(predictions)\n",
    "model_str = f\"rank{rank}_maxIter{maxIter}_regParam_{str(regParam)[2:]}\"\n",
    "model.write().overwrite().save(f'/models/{model_str}')\n",
    "print(f\"{rank=}, {maxIter=}, {regParam=}, {rmse=}\")"
   ]
  },
  {
   "cell_type": "markdown",
   "metadata": {
    "application/vnd.databricks.v1+cell": {
     "cellMetadata": {},
     "inputWidgets": {},
     "nuid": "d698fbc1-9dc5-46ff-9c74-4514c9d16d3d",
     "showTitle": false,
     "title": ""
    }
   },
   "source": [
    "## Test the Model"
   ]
  },
  {
   "cell_type": "code",
   "execution_count": null,
   "metadata": {
    "application/vnd.databricks.v1+cell": {
     "cellMetadata": {
      "byteLimit": 2048000,
      "rowLimit": 10000
     },
     "inputWidgets": {},
     "nuid": "f1051b7e-fb8d-4e48-a866-1151357bc9d5",
     "showTitle": false,
     "title": ""
    }
   },
   "outputs": [
    {
     "name": "stdout",
     "output_type": "stream",
     "text": [
      "+------+------+------+\n",
      "|userId|songId|rating|\n",
      "+------+------+------+\n",
      "|     0|  7171|   5.0|\n",
      "|     0|  8637|   4.0|\n",
      "|     0| 21966|   4.0|\n",
      "|     0| 35821|   5.0|\n",
      "|     0| 82446|   5.0|\n",
      "|     0| 90409|   5.0|\n",
      "|     0|107410|   5.0|\n",
      "|     0|131919|   5.0|\n",
      "|     0|132685|   3.0|\n",
      "|     0|136507|   3.0|\n",
      "|     1|  3342|   5.0|\n",
      "|     1|  7522|   1.0|\n",
      "|     1| 25363|   2.0|\n",
      "|     1| 38997|   5.0|\n",
      "|     1| 43685|   1.0|\n",
      "|     1| 45488|   4.0|\n",
      "|     1| 62770|   3.0|\n",
      "|     1|109450|   3.0|\n",
      "|     1|122506|   3.0|\n",
      "|     1|130621|   5.0|\n",
      "+------+------+------+\n",
      "only showing top 20 rows\n",
      "\n"
     ]
    }
   ],
   "source": [
    "test = spark.read \\\n",
    "  .option(\"delimiter\", \"\\t\") \\\n",
    "  .csv(\"/mnt/azureStorage/test_0.txt\") \\\n",
    "  .toDF(\"userId\", \"songId\", \"rating\")\n",
    "\n",
    "test = test.select(test.userId.cast(\"integer\"), test.songId.cast(\"integer\"), test.rating.cast(\"double\"))\n",
    "test.show()\n"
   ]
  },
  {
   "cell_type": "code",
   "execution_count": null,
   "metadata": {
    "application/vnd.databricks.v1+cell": {
     "cellMetadata": {
      "byteLimit": 2048000,
      "rowLimit": 10000
     },
     "inputWidgets": {},
     "nuid": "2733616e-c875-4fda-a56a-782362b4c1b5",
     "showTitle": false,
     "title": ""
    }
   },
   "outputs": [
    {
     "name": "stdout",
     "output_type": "stream",
     "text": [
      "The number of distinct users in test data: 200000\n",
      "The number of distinct songs in test data: 127771\n"
     ]
    }
   ],
   "source": [
    "test_user_count = test.select(\"userId\").distinct().count()\n",
    "test_song_count = test.select(\"songId\").distinct().count()\n",
    "print(f\"The number of distinct users in test data: {test_user_count}\")\n",
    "print(f\"The number of distinct songs in test data: {test_song_count}\")"
   ]
  },
  {
   "cell_type": "code",
   "execution_count": null,
   "metadata": {
    "application/vnd.databricks.v1+cell": {
     "cellMetadata": {
      "byteLimit": 2048000,
      "rowLimit": 10000
     },
     "inputWidgets": {},
     "nuid": "83406f35-79a8-48ab-a638-5f00584c53ec",
     "showTitle": false,
     "title": ""
    }
   },
   "outputs": [
    {
     "name": "stdout",
     "output_type": "stream",
     "text": [
      "Out[26]: 0"
     ]
    }
   ],
   "source": [
    "users_notin_test = ratings.select(\"userId\").subtract(test.select(\"userId\"))\n",
    "users_notin_test.count()"
   ]
  },
  {
   "cell_type": "code",
   "execution_count": null,
   "metadata": {
    "application/vnd.databricks.v1+cell": {
     "cellMetadata": {
      "byteLimit": 2048000,
      "rowLimit": 10000
     },
     "inputWidgets": {},
     "nuid": "1a50ab55-6e89-4c56-958b-0212a8571bf8",
     "showTitle": false,
     "title": ""
    }
   },
   "outputs": [
    {
     "name": "stdout",
     "output_type": "stream",
     "text": [
      "  Rank: 50\n",
      "  MaxIter: 50\n",
      "  RegParam: 0.05\n"
     ]
    }
   ],
   "source": [
    "print(\"  Rank:\", model._java_obj.parent().getRank())\n",
    "print(\"  MaxIter:\", model._java_obj.parent().getMaxIter())\n",
    "print(\"  RegParam:\", model._java_obj.parent().getRegParam())"
   ]
  },
  {
   "cell_type": "code",
   "execution_count": null,
   "metadata": {
    "application/vnd.databricks.v1+cell": {
     "cellMetadata": {
      "byteLimit": 2048000,
      "rowLimit": 10000
     },
     "inputWidgets": {},
     "nuid": "91dfa255-0575-4322-9fd0-5cb6f9dba5e1",
     "showTitle": false,
     "title": ""
    }
   },
   "outputs": [],
   "source": [
    "predictions = model_loaded.transform(test)"
   ]
  },
  {
   "cell_type": "code",
   "execution_count": null,
   "metadata": {
    "application/vnd.databricks.v1+cell": {
     "cellMetadata": {
      "byteLimit": 2048000,
      "rowLimit": 10000
     },
     "inputWidgets": {},
     "nuid": "41e480c9-6175-4a40-aee9-1d6d5a512462",
     "showTitle": false,
     "title": ""
    }
   },
   "outputs": [],
   "source": [
    "from pyspark.ml.evaluation import RegressionEvaluator"
   ]
  },
  {
   "cell_type": "code",
   "execution_count": null,
   "metadata": {
    "application/vnd.databricks.v1+cell": {
     "cellMetadata": {
      "byteLimit": 2048000,
      "rowLimit": 10000
     },
     "inputWidgets": {},
     "nuid": "62d5040c-1114-406d-97b7-613e278f73f0",
     "showTitle": false,
     "title": ""
    }
   },
   "outputs": [],
   "source": [
    "evaluator = RegressionEvaluator(metricName='rmse', labelCol='rating', predictionCol='prediction')\n",
    "rmse = evaluator.evaluate(predictions)"
   ]
  },
  {
   "cell_type": "code",
   "execution_count": null,
   "metadata": {
    "application/vnd.databricks.v1+cell": {
     "cellMetadata": {
      "byteLimit": 2048000,
      "rowLimit": 10000
     },
     "inputWidgets": {},
     "nuid": "1a7ce65d-ec80-4db5-a743-35b8a4163c89",
     "showTitle": false,
     "title": ""
    }
   },
   "outputs": [
    {
     "name": "stdout",
     "output_type": "stream",
     "text": [
      "Out[42]: 1.0631797330840782"
     ]
    }
   ],
   "source": [
    "rmse"
   ]
  },
  {
   "cell_type": "code",
   "execution_count": null,
   "metadata": {
    "application/vnd.databricks.v1+cell": {
     "cellMetadata": {
      "byteLimit": 2048000,
      "rowLimit": 10000
     },
     "inputWidgets": {},
     "nuid": "007837f6-71ae-4147-b743-ffb94dc143c3",
     "showTitle": false,
     "title": ""
    }
   },
   "outputs": [
    {
     "name": "stdout",
     "output_type": "stream",
     "text": [
      "+------+------+------+----------+\n",
      "|userId|songId|rating|prediction|\n",
      "+------+------+------+----------+\n",
      "| 89516| 29453|   4.0|  2.276237|\n",
      "|173093| 46483|   3.0|  3.675692|\n",
      "|173092| 48530|   1.0| 1.7472686|\n",
      "|117833| 53691|   1.0| 1.8457206|\n",
      "|145463| 60455|   3.0| 1.4073292|\n",
      "|     1|109450|   3.0| 4.0602856|\n",
      "| 59938|112032|   2.0| 2.7825067|\n",
      "|117832|135533|   4.0|  2.331811|\n",
      "|     1|  7522|   1.0|  1.550169|\n",
      "| 59939| 15491|   4.0| 3.5277753|\n",
      "| 89516| 70091|   3.0| 1.6540598|\n",
      "|117832| 83361|   4.0| 4.9126153|\n",
      "|117833|101018|   4.0| 2.4562166|\n",
      "| 59937| 39552|   2.0| 2.2335367|\n",
      "|173092| 52627|   1.0| 1.4489079|\n",
      "| 30359|117612|   4.0| 4.0956225|\n",
      "| 30360|  6572|   5.0|  5.364228|\n",
      "|173093| 90890|   3.0|  4.540982|\n",
      "| 30359|127733|   5.0| 5.0687876|\n",
      "|     0|  7171|   5.0|  4.135555|\n",
      "+------+------+------+----------+\n",
      "only showing top 20 rows\n",
      "\n"
     ]
    }
   ],
   "source": [
    "predictions.show()"
   ]
  },
  {
   "cell_type": "code",
   "execution_count": null,
   "metadata": {
    "application/vnd.databricks.v1+cell": {
     "cellMetadata": {
      "byteLimit": 2048000,
      "rowLimit": 10000
     },
     "inputWidgets": {},
     "nuid": "dc1874b6-c526-45b2-9f4b-5d7cb97c00b7",
     "showTitle": false,
     "title": ""
    }
   },
   "outputs": [],
   "source": [
    "predictions = predictions.join(song_attributes, 'songId', 'left')\\\n",
    "    .join(genre_hierarchy, 'genreId', 'left')"
   ]
  },
  {
   "cell_type": "code",
   "execution_count": null,
   "metadata": {
    "application/vnd.databricks.v1+cell": {
     "cellMetadata": {
      "byteLimit": 2048000,
      "rowLimit": 10000
     },
     "inputWidgets": {},
     "nuid": "7fffc37c-6288-42a5-a536-f10b35525cee",
     "showTitle": false,
     "title": ""
    }
   },
   "outputs": [],
   "source": [
    "from pyspark.sql.functions import col, avg, min, max, desc"
   ]
  },
  {
   "cell_type": "code",
   "execution_count": null,
   "metadata": {
    "application/vnd.databricks.v1+cell": {
     "cellMetadata": {
      "byteLimit": 2048000,
      "rowLimit": 10000
     },
     "inputWidgets": {},
     "nuid": "72615c4f-9dd0-40ac-b138-94a9c706f60e",
     "showTitle": false,
     "title": ""
    }
   },
   "outputs": [
    {
     "name": "stdout",
     "output_type": "stream",
     "text": [
      "+----------+\n",
      "|max(count)|\n",
      "+----------+\n",
      "|        10|\n",
      "+----------+\n",
      "\n"
     ]
    }
   ],
   "source": [
    "predictions.groupBy('userId').count().select(max('count')).show()"
   ]
  },
  {
   "cell_type": "code",
   "execution_count": null,
   "metadata": {
    "application/vnd.databricks.v1+cell": {
     "cellMetadata": {
      "byteLimit": 2048000,
      "rowLimit": 10000
     },
     "inputWidgets": {},
     "nuid": "3e5e1444-3e72-4e2c-a5d4-5407b597dbcf",
     "showTitle": false,
     "title": ""
    }
   },
   "outputs": [
    {
     "name": "stdout",
     "output_type": "stream",
     "text": [
      "+-------+------+------+------+----------+-------+--------+-------------+-----+---------+\n",
      "|genreId|songId|userId|rating|prediction|albumId|artistId|parentGenreId|level|genreName|\n",
      "+-------+------+------+------+----------+-------+--------+-------------+-----+---------+\n",
      "|    114|121751|145206|   3.0| 5.2566304|  10316|    5227|          114|    1|      R&B|\n",
      "|    114|127486|145206|   5.0|   5.05774|  10316|    5227|          114|    1|      R&B|\n",
      "|      0| 12061|145206|   5.0| 4.9672146|  10905|    3220|            0|    1|  Unknown|\n",
      "|      0|128821|145206|   5.0| 4.7035966|  10905|    3220|            0|    1|  Unknown|\n",
      "|    114| 77413|145206|   5.0| 4.5306716|  10316|    5227|          114|    1|      R&B|\n",
      "|    114| 30374|145206|   3.0| 4.5276423|  10316|    5227|          114|    1|      R&B|\n",
      "|    114| 19815|145206|   5.0|  4.104283|  15731|    8034|          114|    1|      R&B|\n",
      "|    114| 44714|145206|   5.0|  3.928204|  10316|    5227|          114|    1|      R&B|\n",
      "|      0|115151|145206|   4.0|  3.100343|   6947|    8277|            0|    1|  Unknown|\n",
      "|      0|102437|145206|   1.0| 2.8639102|   6947|    8277|            0|    1|  Unknown|\n",
      "+-------+------+------+------+----------+-------+--------+-------------+-----+---------+\n",
      "\n"
     ]
    }
   ],
   "source": [
    "predictions.filter(col('userId') == 145206).orderBy(desc('prediction')).show()"
   ]
  },
  {
   "cell_type": "code",
   "execution_count": null,
   "metadata": {
    "application/vnd.databricks.v1+cell": {
     "cellMetadata": {
      "byteLimit": 2048000,
      "rowLimit": 10000
     },
     "inputWidgets": {},
     "nuid": "d4110b18-c6de-4a79-bf49-c9fc5d7aea61",
     "showTitle": false,
     "title": ""
    }
   },
   "outputs": [
    {
     "name": "stdout",
     "output_type": "stream",
     "text": [
      "Out[32]: 1066"
     ]
    }
   ],
   "source": [
    "predictions.filter(col('prediction') < 0).count()"
   ]
  },
  {
   "cell_type": "code",
   "execution_count": null,
   "metadata": {
    "application/vnd.databricks.v1+cell": {
     "cellMetadata": {
      "byteLimit": 2048000,
      "rowLimit": 10000
     },
     "inputWidgets": {},
     "nuid": "1474afa0-8fa7-4826-9566-73ca467b56f8",
     "showTitle": false,
     "title": ""
    }
   },
   "outputs": [
    {
     "name": "stdout",
     "output_type": "stream",
     "text": [
      "Out[46]: 1749719"
     ]
    }
   ],
   "source": [
    "predictions.filter(col('genreName') == 'Unknown').count()"
   ]
  },
  {
   "cell_type": "code",
   "execution_count": null,
   "metadata": {
    "application/vnd.databricks.v1+cell": {
     "cellMetadata": {
      "byteLimit": 2048000,
      "rowLimit": 10000
     },
     "inputWidgets": {},
     "nuid": "853cd2ff-9be7-49f3-a688-26e41dbba0d4",
     "showTitle": false,
     "title": ""
    }
   },
   "outputs": [
    {
     "name": "stdout",
     "output_type": "stream",
     "text": [
      "+------+\n",
      "|userId|\n",
      "+------+\n",
      "|124861|\n",
      "|122992|\n",
      "|145206|\n",
      "|145030|\n",
      "|141997|\n",
      "|118144|\n",
      "|123006|\n",
      "|135314|\n",
      "|144878|\n",
      "|125428|\n",
      "|122095|\n",
      "|140345|\n",
      "|120699|\n",
      "|130006|\n",
      "|136328|\n",
      "|138923|\n",
      "|118524|\n",
      "|131445|\n",
      "|120076|\n",
      "|144197|\n",
      "+------+\n",
      "only showing top 20 rows\n",
      "\n"
     ]
    }
   ],
   "source": [
    "# choosing userId who has less than 5 'Unknown' genreId\n",
    "predictions.filter(col(\"genreName\") != \"Unknown\") \\\n",
    "    .groupBy(\"userId\") \\\n",
    "    .count() \\\n",
    "    .filter(col(\"count\") > 5) \\\n",
    "    .select(\"userId\") \\\n",
    "    .show()"
   ]
  },
  {
   "cell_type": "markdown",
   "metadata": {
    "application/vnd.databricks.v1+cell": {
     "cellMetadata": {},
     "inputWidgets": {},
     "nuid": "cdc53962-3652-4176-b5da-30bbf49e1399",
     "showTitle": false,
     "title": ""
    }
   },
   "source": [
    "## Recommend"
   ]
  },
  {
   "cell_type": "code",
   "execution_count": null,
   "metadata": {
    "application/vnd.databricks.v1+cell": {
     "cellMetadata": {},
     "inputWidgets": {},
     "nuid": "c88d883c-1823-451b-97ff-51ae3a554d55",
     "showTitle": false,
     "title": ""
    }
   },
   "outputs": [],
   "source": [
    "\n",
    "from pyspark.sql.functions import col\n",
    "from pyspark.sql.functions import isnan\n",
    "from pyspark.sql.types import IntegerType\n",
    "from pyspark.ml.feature import VectorAssembler\n",
    "from pyspark.ml.linalg import Vectors\n",
    "\n",
    "def recommend_songs(model, user_song_matrix, user_id, num_recommendations):\n",
    "    user_rated_songs = user_song_matrix.filter(col(\"userId\") == user_id).select(\"songId\")\n",
    "    all_songs = user_song_matrix.select(\"songId\").distinct()\n",
    "    unrated_songs = all_songs.subtract(user_rated_songs)\n",
    "\n",
    "    assembler = VectorAssembler(inputCols=[\"songId\"], outputCol=\"features\")\n",
    "    unrated_songs = assembler.transform(unrated_songs)\n",
    "    unrated_songs = unrated_songs.select(\"songId\", \"features\")\n",
    "\n",
    "    recommendations = model.transform(unrated_songs)\n",
    "    recommendations = recommendations.orderBy(\"prediction\", ascending=False).limit(num_recommendations)\n",
    "    recommendations = recommendations.select(\"songId\", \"prediction\")\n",
    "\n",
    "    return recommendations\n",
    "\n",
    "recommendations = recommend_songs(model, user_song_matrix, 123, 10)\n",
    "recommendations.show()\n"
   ]
  },
  {
   "cell_type": "markdown",
   "metadata": {
    "application/vnd.databricks.v1+cell": {
     "cellMetadata": {},
     "inputWidgets": {},
     "nuid": "ed3ef7a2-aac1-40e4-adde-e54ac985c273",
     "showTitle": false,
     "title": ""
    }
   },
   "source": [
    "## Plots"
   ]
  },
  {
   "cell_type": "code",
   "execution_count": null,
   "metadata": {
    "application/vnd.databricks.v1+cell": {
     "cellMetadata": {
      "byteLimit": 2048000,
      "rowLimit": 10000
     },
     "inputWidgets": {},
     "nuid": "6ecf364d-8874-44fc-9247-7665b25e0107",
     "showTitle": false,
     "title": ""
    }
   },
   "outputs": [],
   "source": [
    "import matplotlib.pyplot as plt\n",
    "import seaborn as sns"
   ]
  },
  {
   "cell_type": "code",
   "execution_count": null,
   "metadata": {
    "application/vnd.databricks.v1+cell": {
     "cellMetadata": {
      "byteLimit": 2048000,
      "rowLimit": 10000
     },
     "inputWidgets": {},
     "nuid": "5d5c7534-1da5-4909-8482-ef0bb8aa9273",
     "showTitle": false,
     "title": ""
    }
   },
   "outputs": [],
   "source": [
    "import pyspark.sql.functions as F\n",
    "rating_counts = ratings.groupBy(\"rating\").count()\n",
    "rame to a Pandas dataframe for easier plotting\n",
    "rating_counts_pd = rating_counts.toPandas()"
   ]
  },
  {
   "cell_type": "code",
   "execution_count": null,
   "metadata": {
    "application/vnd.databricks.v1+cell": {
     "cellMetadata": {
      "byteLimit": 2048000,
      "rowLimit": 10000
     },
     "inputWidgets": {},
     "nuid": "6be05531-4948-47d5-92c0-3682a22b95d6",
     "showTitle": false,
     "title": ""
    }
   },
   "outputs": [
    {
     "data": {
      "image/png": "[encoded data removed]"
     },
     "metadata": {
      "application/vnd.databricks.v1+output": {
       "addedWidgets": {},
       "arguments": {},
       "data": "data:image/png;base64,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\n",
       "datasetInfos": [],
       "metadata": {},
       "removedWidgets": [],
       "type": "image"
      }
     },
     "output_type": "display_data"
    }
   ],
   "source": [
    "plt.bar(rating_counts_pd['rating'], rating_counts_pd['count'], align='center'#, color='black'\n",
    ")\n",
    "plt.xlabel('Rating')\n",
    "plt.ylabel('Count')\n",
    "plt.title('Distribution of Ratings')\n",
    "plt.grid(False)\n",
    "\n",
    "plt.show()"
   ]
  },
  {
   "cell_type": "code",
   "execution_count": null,
   "metadata": {
    "application/vnd.databricks.v1+cell": {
     "cellMetadata": {
      "byteLimit": 2048000,
      "rowLimit": 10000
     },
     "inputWidgets": {},
     "nuid": "6718ecef-aecb-488f-b851-b9ef8f7d1e6d",
     "showTitle": false,
     "title": ""
    }
   },
   "outputs": [],
   "source": [
    "from pyspark.sql.functions import avg, count\n",
    "\n",
    "song_ratings = ratings.groupBy('songId')\\\n",
    "                .agg(avg('rating').alias('avg_rating'), \n",
    "                     count('rating').alias('num_ratings'))\\\n",
    "                .orderBy('num_ratings', ascending=False)\n"
   ]
  },
  {
   "cell_type": "code",
   "execution_count": null,
   "metadata": {
    "application/vnd.databricks.v1+cell": {
     "cellMetadata": {
      "byteLimit": 2048000,
      "rowLimit": 10000
     },
     "inputWidgets": {},
     "nuid": "6c6ea692-bf13-4a46-a616-f5253ecdde35",
     "showTitle": false,
     "title": ""
    }
   },
   "outputs": [
    {
     "name": "stdout",
     "output_type": "stream",
     "text": [
      "+------+------------------+-----------+\n",
      "|songId|        avg_rating|num_ratings|\n",
      "+------+------------------+-----------+\n",
      "| 72309| 3.095482316013676|      35682|\n",
      "|105433|3.4090239736113563|      33954|\n",
      "+------+------------------+-----------+\n",
      "only showing top 2 rows\n",
      "\n"
     ]
    }
   ],
   "source": [
    "song_ratings.show(2)"
   ]
  },
  {
   "cell_type": "code",
   "execution_count": null,
   "metadata": {
    "application/vnd.databricks.v1+cell": {
     "cellMetadata": {},
     "inputWidgets": {},
     "nuid": "d0376185-4617-4631-9245-9a85f73b00ef",
     "showTitle": false,
     "title": ""
    }
   },
   "outputs": [],
   "source": [
    "song_ratings = song_ratings.toPandas()"
   ]
  },
  {
   "cell_type": "code",
   "execution_count": null,
   "metadata": {
    "application/vnd.databricks.v1+cell": {
     "cellMetadata": {
      "byteLimit": 2048000,
      "rowLimit": 10000
     },
     "inputWidgets": {},
     "nuid": "d57c1fa7-b05d-4871-bf2b-67309de3e697",
     "showTitle": false,
     "title": ""
    }
   },
   "outputs": [
    {
     "data": {
      "image/png": "[encoded data removed]"
     },
     "metadata": {
      "application/vnd.databricks.v1+output": {
       "addedWidgets": {},
       "arguments": {},
       "data": "data:image/png;base64,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\n",
       "datasetInfos": [],
       "metadata": {},
       "removedWidgets": [],
       "type": "image"
      }
     },
     "output_type": "display_data"
    }
   ],
   "source": [
    "\n",
    "\n",
    "plt.scatter(song_ratings['avg_rating'], song_ratings['num_ratings'], alpha=0.3, s=20)\n",
    "\n",
    "plt.xlabel('Average Rating')\n",
    "plt.ylabel('Number of Ratings')\n",
    "plt.title('Number of Ratings versus Average Rating')\n",
    "\n",
    "plt.show()\n"
   ]
  },
  {
   "cell_type": "code",
   "execution_count": null,
   "metadata": {
    "application/vnd.databricks.v1+cell": {
     "cellMetadata": {
      "byteLimit": 2048000,
      "rowLimit": 10000
     },
     "inputWidgets": {},
     "nuid": "491bdbc6-9caf-4cfb-bfaa-7004ea885682",
     "showTitle": false,
     "title": ""
    }
   },
   "outputs": [
    {
     "data": {
      "image/png": "[encoded data removed]"
     },
     "metadata": {
      "application/vnd.databricks.v1+output": {
       "addedWidgets": {},
       "arguments": {},
       "data": "data:image/png;base64,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\n",
       "datasetInfos": [],
       "metadata": {},
       "removedWidgets": [],
       "type": "image"
      }
     },
     "output_type": "display_data"
    }
   ],
   "source": [
    "import pyspark.sql.functions as F\n",
    "import matplotlib.pyplot as plt\n",
    "\n",
    "# Assuming that the ratings dataframe is already defined\n",
    "\n",
    "# Group the ratings by userId and calculate the average rating\n",
    "avg_ratings_per_user = ratings.groupBy(\"userId\").agg(F.mean(\"rating\").alias(\"avg_rating\"))\n",
    "\n",
    "# Convert the PySpark dataframe to a Pandas dataframe\n",
    "avg_ratings_per_user_pd = avg_ratings_per_user.toPandas()\n",
    "\n",
    "# Plot a histogram of the average rating values\n",
    "plt.hist(avg_ratings_per_user_pd[\"avg_rating\"], bins=30)\n",
    "\n",
    "# Add labels and a title to the plot\n",
    "plt.xlabel(\"Average Rating\")\n",
    "plt.ylabel(\"Number of Users\")\n",
    "plt.title(\"Distribution of Average Ratings per User\")\n",
    "plt.show()\n"
   ]
  },
  {
   "cell_type": "code",
   "execution_count": null,
   "metadata": {
    "application/vnd.databricks.v1+cell": {
     "cellMetadata": {
      "byteLimit": 2048000,
      "rowLimit": 10000
     },
     "inputWidgets": {},
     "nuid": "860b1736-c809-4ba4-a895-005f6a30711d",
     "showTitle": false,
     "title": ""
    }
   },
   "outputs": [
    {
     "name": "stdout",
     "output_type": "stream",
     "text": [
      "Out[62]: <AxesSubplot:xlabel='avg_rating', ylabel='Count'>"
     ]
    },
    {
     "data": {
      "image/png": "[encoded data removed]"
     },
     "metadata": {
      "application/vnd.databricks.v1+output": {
       "addedWidgets": {},
       "arguments": {},
       "data": "data:image/png;base64,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\n",
       "datasetInfos": [],
       "metadata": {},
       "removedWidgets": [],
       "type": "image"
      }
     },
     "output_type": "display_data"
    }
   ],
   "source": [
    "sns.histplot(avg_ratings_per_user_pd[\"avg_rating\"], bins=30)"
   ]
  },
  {
   "cell_type": "code",
   "execution_count": null,
   "metadata": {
    "application/vnd.databricks.v1+cell": {
     "cellMetadata": {
      "byteLimit": 2048000,
      "rowLimit": 10000
     },
     "inputWidgets": {},
     "nuid": "b8fcdabe-f54a-4800-ac1b-1304d71239b3",
     "showTitle": false,
     "title": ""
    }
   },
   "outputs": [
    {
     "data": {
      "text/html": [
       "<style scoped>\n",
       "  .ansiout {\n",
       "    display: block;\n",
       "    unicode-bidi: embed;\n",
       "    white-space: pre-wrap;\n",
       "    word-wrap: break-word;\n",
       "    word-break: break-all;\n",
       "    font-family: \"Source Code Pro\", \"Menlo\", monospace;;\n",
       "    font-size: 13px;\n",
       "    color: #555;\n",
       "    margin-left: 4px;\n",
       "    line-height: 19px;\n",
       "  }\n",
       "</style>"
      ]
     },
     "metadata": {
      "application/vnd.databricks.v1+output": {
       "arguments": {},
       "data": "",
       "errorSummary": "Cancelled",
       "errorTraceType": "html",
       "metadata": {},
       "type": "ipynbError"
      }
     },
     "output_type": "display_data"
    }
   ],
   "source": [
    "from time import sleep\n",
    "sleep(3600)"
   ]
  },
  {
   "cell_type": "code",
   "execution_count": null,
   "metadata": {
    "application/vnd.databricks.v1+cell": {
     "cellMetadata": {
      "byteLimit": 2048000,
      "rowLimit": 10000
     },
     "inputWidgets": {},
     "nuid": "ebfa07e9-32ba-4e0c-a01b-62cf6a633d2d",
     "showTitle": false,
     "title": ""
    }
   },
   "outputs": [],
   "source": [
    "item_ratings = ratings.groupBy('songId').count().orderBy('count', ascending=False)"
   ]
  },
  {
   "cell_type": "code",
   "execution_count": null,
   "metadata": {
    "application/vnd.databricks.v1+cell": {
     "cellMetadata": {
      "byteLimit": 2048000,
      "rowLimit": 10000
     },
     "inputWidgets": {},
     "nuid": "dfd2b83d-197a-40e0-b373-496703e334b7",
     "showTitle": false,
     "title": ""
    }
   },
   "outputs": [
    {
     "data": {
      "image/png": "[encoded data removed]"
     },
     "metadata": {
      "application/vnd.databricks.v1+output": {
       "addedWidgets": {},
       "arguments": {},
       "data": "data:image/png;base64,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\n",
       "datasetInfos": [],
       "metadata": {},
       "removedWidgets": [],
       "type": "image"
      }
     },
     "output_type": "display_data"
    }
   ],
   "source": [
    "plt.scatter(item_ratings.select('songId').rdd.map(lambda x: x[0]).collect(),\n",
    "            item_ratings.select('count').rdd.map(lambda x: x[0]).collect(), alpha=0.3, s=20)\n",
    "plt.xlabel('Song ID')\n",
    "plt.ylabel('Number of Ratings')\n",
    "plt.show()"
   ]
  },
  {
   "cell_type": "code",
   "execution_count": null,
   "metadata": {
    "application/vnd.databricks.v1+cell": {
     "cellMetadata": {
      "byteLimit": 2048000,
      "rowLimit": 10000
     },
     "inputWidgets": {},
     "nuid": "c573d2c1-4d8c-4ff3-8dc7-f9a1a1a992e4",
     "showTitle": false,
     "title": ""
    }
   },
   "outputs": [
    {
     "name": "stdout",
     "output_type": "stream",
     "text": [
      "+-------+------+------+------+-------+--------+-------------+-----+---------+\n",
      "|genreId|songId|userId|rating|albumId|artistId|parentGenreId|level|genreName|\n",
      "+-------+------+------+------+-------+--------+-------------+-----+---------+\n",
      "|      0|   166|     0|   5.0|   5303|    7231|            0|    1|  Unknown|\n",
      "+-------+------+------+------+-------+--------+-------------+-----+---------+\n",
      "only showing top 1 row\n",
      "\n"
     ]
    }
   ],
   "source": [
    "df.show(1)"
   ]
  },
  {
   "cell_type": "code",
   "execution_count": null,
   "metadata": {
    "application/vnd.databricks.v1+cell": {
     "cellMetadata": {
      "byteLimit": 2048000,
      "rowLimit": 10000
     },
     "inputWidgets": {},
     "nuid": "3aad3b60-7c83-4efc-98f8-0a4e235bd2fe",
     "showTitle": false,
     "title": ""
    }
   },
   "outputs": [
    {
     "data": {
      "image/png": "[encoded data removed]"
     },
     "metadata": {
      "application/vnd.databricks.v1+output": {
       "addedWidgets": {},
       "arguments": {},
       "data": "data:image/png;base64,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\n",
       "datasetInfos": [],
       "metadata": {},
       "removedWidgets": [],
       "type": "image"
      }
     },
     "output_type": "display_data"
    }
   ],
   "source": [
    "import matplotlib.pyplot as plt\n",
    "import pandas as pd\n",
    "from pyspark.sql.functions import count, col\n",
    "\n",
    "# Assuming your Spark dataframe is named \"df\" and the genre column is named \"genre\"\n",
    "genre_counts = df.filter(df.genreName != \"Unknown\").groupBy('genreName').agg(count('*').alias('count'))\n",
    "genre_counts_pd = genre_counts.toPandas()\n",
    "\n",
    "# Plot horizontal bar chart\n",
    "genre_counts_pd.sort_values(by='count').plot(kind='barh', x='genreName', y='count')\n",
    "\n",
    "plt.show()\n"
   ]
  },
  {
   "cell_type": "code",
   "execution_count": null,
   "metadata": {
    "application/vnd.databricks.v1+cell": {
     "cellMetadata": {
      "byteLimit": 2048000,
      "rowLimit": 10000
     },
     "inputWidgets": {},
     "nuid": "b75c4d99-c840-43e0-9a1d-46d1a43d7a95",
     "showTitle": false,
     "title": ""
    }
   },
   "outputs": [
    {
     "name": "stdout",
     "output_type": "stream",
     "text": [
      "Out[63]: Text(0.5, 1.0, 'Number of rated genres (top 15)')"
     ]
    },
    {
     "data": {
      "image/png": "[encoded data removed]"
     },
     "metadata": {
      "application/vnd.databricks.v1+output": {
       "addedWidgets": {},
       "arguments": {},
       "data": "data:image/png;base64,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\n",
       "datasetInfos": [],
       "metadata": {},
       "removedWidgets": [],
       "type": "image"
      }
     },
     "output_type": "display_data"
    }
   ],
   "source": [
    "\n",
    "df = genre_counts_pd.sort_values(by='count', ascending=False)[:15].sort_values(by='count')\n",
    "df.plot(kind='barh', x='genreName', y='count')\n",
    "plt.title(\"Number of rated genres (top 15)\")"
   ]
  }
 ],
 "metadata": {
  "application/vnd.databricks.v1+notebook": {
   "dashboards": [],
   "language": "python",
   "notebookMetadata": {
    "mostRecentlyExecutedCommandWithImplicitDF": {
     "commandId": 3863082808769892,
     "dataframes": [
      "_sqldf"
     ]
    },
    "pythonIndentUnit": 4
   },
   "notebookName": "yahoo-music",
   "notebookOrigID": 3863082808769876,
   "widgets": {}
  },
  "kernelspec": {
   "display_name": "Python 3 (ipykernel)",
   "language": "python",
   "name": "python3"
  },
  "language_info": {
   "codemirror_mode": {
    "name": "ipython",
    "version": 3
   },
   "file_extension": ".py",
   "mimetype": "text/x-python",
   "name": "python",
   "nbconvert_exporter": "python",
   "pygments_lexer": "ipython3",
   "version": "3.9.13"
  }
 },
 "nbformat": 4,
 "nbformat_minor": 4
}
